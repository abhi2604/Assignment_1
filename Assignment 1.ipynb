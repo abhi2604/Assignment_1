{
 "cells": [
  {
   "cell_type": "code",
   "execution_count": 1,
   "metadata": {},
   "outputs": [
    {
     "name": "stdout",
     "output_type": "stream",
     "text": [
      "Enter the year:2016\n",
      "The year is a leap year.\n"
     ]
    }
   ],
   "source": [
    "# Q1.Write a program to check if a given year is a leap year or not. \n",
    "# Leap year: a year is said to be a leap year, if the year is exactly\n",
    "# divisible by 4 but and not divisible by 100\n",
    "\n",
    "year = int(input(\"Enter the year:\"))\n",
    "if (year % 4 == 0 and year != 0):\n",
    "\tprint(\"The year is a leap year.\")\n",
    "else:\n",
    "\tprint(\"The year is not a leap year\")"
   ]
  },
  {
   "cell_type": "code",
   "execution_count": 2,
   "metadata": {},
   "outputs": [
    {
     "name": "stdout",
     "output_type": "stream",
     "text": [
      "Enter Angle A:60\n",
      "Enter Angle B:30\n",
      "Enter Angle C:90\n",
      "It is a triangle\n"
     ]
    }
   ],
   "source": [
    "# 2.Write a program to check whether a triangle is valid or not if angles are given.\n",
    "# Valid Triangle: Sum of all the angles should be 180. \n",
    "# All the angles should be greater than zero\n",
    "\n",
    "angle_A = int(input(\"Enter Angle A:\"))\n",
    "angle_B = int(input(\"Enter Angle B:\"))\n",
    "angle_C = int(input(\"Enter Angle C:\"))\n",
    "\n",
    "if ((angle_A + angle_B + angle_C) == 180 and angle_A>0 and angle_B>0 and angle_C>0):\n",
    "    print(\"It is a triangle\")\n",
    "else:\n",
    "    print(\"It is not a triangle\")\n"
   ]
  },
  {
   "cell_type": "code",
   "execution_count": 3,
   "metadata": {},
   "outputs": [
    {
     "name": "stdout",
     "output_type": "stream",
     "text": [
      "Enter Angle A:0\n",
      "Enter Angle B:90\n",
      "Enter Angle C:90\n",
      "It is not a triangle\n"
     ]
    }
   ],
   "source": [
    "angle_A = int(input(\"Enter Angle A:\"))\n",
    "angle_B = int(input(\"Enter Angle B:\"))\n",
    "angle_C = int(input(\"Enter Angle C:\"))\n",
    "\n",
    "if ((angle_A + angle_B + angle_C) == 180 and angle_A>0 and angle_B>0 and angle_C>0):\n",
    "    print(\"It is a triangle\")\n",
    "else:\n",
    "    print(\"It is not a triangle\")"
   ]
  },
  {
   "cell_type": "code",
   "execution_count": 4,
   "metadata": {},
   "outputs": [
    {
     "name": "stdout",
     "output_type": "stream",
     "text": [
      "Enter Angle A:60\n",
      "Enter Angle B:50\n",
      "Enter Angle C:100\n",
      "It is not a triangle\n"
     ]
    }
   ],
   "source": [
    "angle_A = int(input(\"Enter Angle A:\"))\n",
    "angle_B = int(input(\"Enter Angle B:\"))\n",
    "angle_C = int(input(\"Enter Angle C:\"))\n",
    "\n",
    "if ((angle_A + angle_B + angle_C) == 180 and angle_A>0 and angle_B>0 and angle_C>0):\n",
    "    print(\"It is a triangle\")\n",
    "else:\n",
    "    print(\"It is not a triangle\")"
   ]
  },
  {
   "cell_type": "code",
   "execution_count": 17,
   "metadata": {},
   "outputs": [
    {
     "name": "stdout",
     "output_type": "stream",
     "text": [
      "Enter the units of Electricity bill:50\n",
      "Total units consumed: 50\n",
      "Total bill: 30.0\n"
     ]
    }
   ],
   "source": [
    "# 3.Write a program to input electricity unit charge and \n",
    "# calculate the total electricity bill according to the given conditions:\n",
    "\n",
    "# - For the first 50 units Rs. 0.50/unit\n",
    "# - For the next 100 units Rs. 0.75/unit\n",
    "# - For the next 100 units Rs. 1.20/unit\n",
    "# - For unit above 250 Rs. 1.50/unit\n",
    "\n",
    "# Also, an additional surcharge of 20% should be added to the bill.\n",
    "\n",
    "unit = int(input(\"Enter the units of Electricity bill:\"))\n",
    "\n",
    "if unit <= 50:\n",
    "\tamount = (unit * 0.50)\n",
    "elif unit <= 150:\n",
    "    amount = 25 + (unit-50)*0.75\n",
    "elif unit <= 250:\n",
    "    amount = 100 + (unit-100)*1.20\n",
    "else:\n",
    "    amount = 220 + (unit-250)*1.5\n",
    "    \n",
    "total = amount + (amount * 0.20)\n",
    "\n",
    "print(\"Total units consumed:\",unit)\n",
    "print(\"Total bill:\",total)\n",
    "\n"
   ]
  },
  {
   "cell_type": "code",
   "execution_count": 18,
   "metadata": {},
   "outputs": [
    {
     "name": "stdout",
     "output_type": "stream",
     "text": [
      "Enter the amount of Purchase:100\n",
      "Enter the quality of service(1-5):2\n",
      "Tip for the quality of service is: 10.0\n"
     ]
    }
   ],
   "source": [
    "# 4.Given 2 numbers, a for the purchase amount in rupees, and b for the quality of service(1-5) received, \n",
    "# Calculate the tip according to the following table\n",
    "\n",
    "a = int(input(\"Enter the amount of Purchase:\"))\n",
    "b = int(input(\"Enter the quality of service(1-5):\"))\n",
    "\n",
    "if b == 1:\n",
    "    tip = a * 0.05\n",
    "elif b == 2:\n",
    "    tip = a * 0.10\n",
    "elif b == 3:\n",
    "    tip = a * 0.15\n",
    "elif b == 4:\n",
    "    tip = a * 0.20\n",
    "elif b == 5:\n",
    "    tip = a * 0.25\n",
    "else:\n",
    "    print(\"Invalid tip entry, Please enter in the range of 1-5\")\n",
    "    \n",
    "print(\"Tip for the quality of service is:\",tip)\n"
   ]
  },
  {
   "cell_type": "code",
   "execution_count": 21,
   "metadata": {},
   "outputs": [
    {
     "name": "stdout",
     "output_type": "stream",
     "text": [
      "Enter the amount:3550\n",
      "No. of 2000 Notes= 1\n",
      "No. of 500 Notes= 3\n",
      "No. of 100 Notes= 0\n",
      "No. of 50 Notes= 1\n",
      "No. of 20 Notes= 0\n",
      "No. of 10 Notes= 0\n"
     ]
    }
   ],
   "source": [
    "# 5.Write a program to count the total number of notes in a given amount. \n",
    "# Valid notes:10, 20, 50, 100, 500, 2000 eg : amount 2510, expected output is 2000=1,500=1,10=1\n",
    "\n",
    "amount = int(input(\"Enter the amount:\"))\n",
    "a = amount // 2000\n",
    "aa = amount % 2000\n",
    "b = aa // 500\n",
    "bb = aa % 500\n",
    "c = bb // 100\n",
    "cc = bb % 100\n",
    "d = cc // 50\n",
    "dd = cc % 50\n",
    "e = dd // 20\n",
    "ee = dd % 20\n",
    "f = ee // 10\n",
    "print(\"No. of 2000 Notes=\",a)\n",
    "print(\"No. of 500 Notes=\",b)\n",
    "print(\"No. of 100 Notes=\",c)\n",
    "print(\"No. of 50 Notes=\",d)\n",
    "print(\"No. of 20 Notes=\",e)\n",
    "print(\"No. of 10 Notes=\",f)\n",
    "\n"
   ]
  },
  {
   "cell_type": "code",
   "execution_count": 23,
   "metadata": {},
   "outputs": [
    {
     "name": "stdout",
     "output_type": "stream",
     "text": [
      "1\n",
      "8\n",
      "15\n",
      "22\n",
      "29\n",
      "36\n",
      "43\n",
      "50\n"
     ]
    }
   ],
   "source": [
    "# 6.Print all the numbers from 1 to 50 but skip all multiples of 7. \n",
    "# Also, skip any number that has a 7 in it, such as 27.\n",
    "\n",
    "for value in range(1,51,7):\n",
    "    print(value)\n"
   ]
  },
  {
   "cell_type": "code",
   "execution_count": 25,
   "metadata": {},
   "outputs": [
    {
     "name": "stdout",
     "output_type": "stream",
     "text": [
      "2585\n"
     ]
    }
   ],
   "source": [
    "# 7.Write a program to calculate the sum of the squares of all the numbers from 10 to 20 (both inclusive)\n",
    "\n",
    "sum = 0\n",
    "for value in range(10,21):\n",
    "    sum += (value * value)\n",
    "print(sum)\n"
   ]
  },
  {
   "cell_type": "code",
   "execution_count": 26,
   "metadata": {},
   "outputs": [
    {
     "name": "stdout",
     "output_type": "stream",
     "text": [
      "100\n",
      "221\n",
      "365\n",
      "534\n",
      "730\n",
      "955\n",
      "1211\n",
      "1500\n",
      "1824\n",
      "2185\n",
      "2585\n"
     ]
    }
   ],
   "source": [
    "sum = 0\n",
    "for value in range(10,21):\n",
    "    sum += (value * value)\n",
    "    print(sum)\n"
   ]
  },
  {
   "cell_type": "code",
   "execution_count": 31,
   "metadata": {},
   "outputs": [
    {
     "name": "stdout",
     "output_type": "stream",
     "text": [
      "148\n"
     ]
    }
   ],
   "source": [
    "# 8.Write a program to print Collatz Conjecture sequence for number 50.\n",
    "\n",
    "for value in range(50):\n",
    "    if (value / 2 == 0):\n",
    "        n = value / 2\n",
    "    else:\n",
    "        n = (value * 3) + 1\n",
    "print(n)"
   ]
  },
  {
   "cell_type": "code",
   "execution_count": 3,
   "metadata": {},
   "outputs": [
    {
     "name": "stdout",
     "output_type": "stream",
     "text": [
      "Enter the first number20\n",
      "Enter the second number25\n",
      "LCM of two numbers= 100\n"
     ]
    }
   ],
   "source": [
    "# 9.Given two numbers a and b calculate the Least Common Multiple (LCM). \n",
    "# LCM of a and b is the smallest number that is a multiple of both a and b.\n",
    "\n",
    "\n",
    "a=int(input(\"Enter the first number\"))\n",
    "b=int(input(\"Enter the second number\"))\n",
    "\n",
    "if(a>b):\n",
    "    num1=a\n",
    "else:\n",
    "    num1=b\n",
    "while(1):\n",
    "    if(num1%a==0 and num1%b==0):\n",
    "        print(\"LCM of two numbers=\",num1)\n",
    "        break\n",
    "    num1+=1\n"
   ]
  },
  {
   "cell_type": "code",
   "execution_count": 5,
   "metadata": {},
   "outputs": [
    {
     "name": "stdout",
     "output_type": "stream",
     "text": [
      "Enter the number to reverse the digits123\n",
      "Reverse of the numbers is: 321\n"
     ]
    }
   ],
   "source": [
    "# 10.Write a program that prompts the user to input an integer \n",
    "# and then outputs the number with the digits reversed. \n",
    "# For example, if the input is 12345, the output should be 54321\n",
    "\n",
    "n=int(input(\"Enter the number to reverse the digits\"))\n",
    "r=0\n",
    "while(n>0):\n",
    "    dig=n%10\n",
    "    r=(r*10) + dig\n",
    "    n=n//10\n",
    "print(\"Reverse of the numbers is:\",r)\n",
    "    "
   ]
  },
  {
   "cell_type": "code",
   "execution_count": null,
   "metadata": {},
   "outputs": [],
   "source": []
  }
 ],
 "metadata": {
  "kernelspec": {
   "display_name": "Python 3",
   "language": "python",
   "name": "python3"
  },
  "language_info": {
   "codemirror_mode": {
    "name": "ipython",
    "version": 3
   },
   "file_extension": ".py",
   "mimetype": "text/x-python",
   "name": "python",
   "nbconvert_exporter": "python",
   "pygments_lexer": "ipython3",
   "version": "3.6.5"
  }
 },
 "nbformat": 4,
 "nbformat_minor": 2
}
