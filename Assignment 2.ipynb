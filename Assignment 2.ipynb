{
 "cells": [
  {
   "cell_type": "code",
   "execution_count": 10,
   "metadata": {},
   "outputs": [
    {
     "name": "stdout",
     "output_type": "stream",
     "text": [
      "['r', 'g', 'm']\n"
     ]
    }
   ],
   "source": [
    "# 1.Write a program to print duplicate characters from String.\n",
    "# Input : \"Programming\"\n",
    "# Output: \"r\", \"m\", \"g\"\n",
    "\n",
    "a=[]\n",
    "s = \"programming\"\n",
    "for i in s:\n",
    "    if s.count(i)>1 and i not in a:\n",
    "        a.append(i)\n",
    "print(a)\n",
    "        "
   ]
  },
  {
   "cell_type": "code",
   "execution_count": 14,
   "metadata": {},
   "outputs": [
    {
     "ename": "TypeError",
     "evalue": "'bool' object is not iterable",
     "output_type": "error",
     "traceback": [
      "\u001b[1;31m---------------------------------------------------------------------------\u001b[0m",
      "\u001b[1;31mTypeError\u001b[0m                                 Traceback (most recent call last)",
      "\u001b[1;32m<ipython-input-14-4733cfc6cc03>\u001b[0m in \u001b[0;36m<module>\u001b[1;34m()\u001b[0m\n\u001b[0;32m     10\u001b[0m \u001b[1;31m# cook_str2 = raw_str2.isalpha()\u001b[0m\u001b[1;33m\u001b[0m\u001b[1;33m\u001b[0m\u001b[0m\n\u001b[0;32m     11\u001b[0m \u001b[1;33m\u001b[0m\u001b[0m\n\u001b[1;32m---> 12\u001b[1;33m \u001b[1;32mif\u001b[0m\u001b[1;33m(\u001b[0m\u001b[0msorted\u001b[0m\u001b[1;33m(\u001b[0m\u001b[0mraw_str1\u001b[0m\u001b[1;33m.\u001b[0m\u001b[0misalpha\u001b[0m\u001b[1;33m(\u001b[0m\u001b[1;33m)\u001b[0m\u001b[1;33m)\u001b[0m\u001b[1;33m==\u001b[0m\u001b[0msorted\u001b[0m\u001b[1;33m(\u001b[0m\u001b[0mraw_str2\u001b[0m\u001b[1;33m.\u001b[0m\u001b[0misalpha\u001b[0m\u001b[1;33m(\u001b[0m\u001b[1;33m)\u001b[0m\u001b[1;33m)\u001b[0m\u001b[1;33m)\u001b[0m\u001b[1;33m:\u001b[0m\u001b[1;33m\u001b[0m\u001b[0m\n\u001b[0m\u001b[0;32m     13\u001b[0m     \u001b[0mprint\u001b[0m\u001b[1;33m(\u001b[0m\u001b[1;34m\"The strings given are anagram of each other\"\u001b[0m\u001b[1;33m)\u001b[0m\u001b[1;33m\u001b[0m\u001b[0m\n\u001b[0;32m     14\u001b[0m \u001b[1;32melse\u001b[0m\u001b[1;33m:\u001b[0m\u001b[1;33m\u001b[0m\u001b[0m\n",
      "\u001b[1;31mTypeError\u001b[0m: 'bool' object is not iterable"
     ]
    }
   ],
   "source": [
    "# 2.Write a program to check if two given strings are an anagram \n",
    "# of each other or not.\n",
    "# Anagram Strings: Two strings are anagrams if they are written \n",
    "# using the exact letters, ignoring space, punctuation, and capitalization.\n",
    "\n",
    "raw_str1 = \"army\"\n",
    "raw_str2 = \"mary\"\n",
    "\n",
    "cook_str1 = raw_str1.isalpha()\n",
    "cook_str2 = raw_str2.isalpha()\n",
    "\n",
    "if(sorted(cook_str1)==sorted(cook_str2):\n",
    "    print(\"The strings given are anagram of each other\")\n",
    "else:\n",
    "    print(\"Not a anagram\")\n",
    "\n",
    "# print(cook_str1,cook_str2)\n",
    "\n"
   ]
  },
  {
   "cell_type": "code",
   "execution_count": 18,
   "metadata": {},
   "outputs": [
    {
     "name": "stdout",
     "output_type": "stream",
     "text": [
      "The strings given are anagram of each other\n"
     ]
    }
   ],
   "source": [
    "# 2.Write a program to check if two given strings are an anagram \n",
    "# of each other or not.\n",
    "# Anagram Strings: Two strings are anagrams if they are written \n",
    "# using the exact letters, ignoring space, punctuation, and capitalization.\n",
    "\n",
    "raw_str1 = \"army\"\n",
    "raw_str2 = \"mary\"\n",
    "\n",
    "if(sorted(raw_str1)==sorted(raw_str2)):\n",
    "    print(\"The strings given are anagram of each other\")\n",
    "else:\n",
    "    print(\"Not a anagram\")\n"
   ]
  },
  {
   "cell_type": "code",
   "execution_count": 21,
   "metadata": {},
   "outputs": [
    {
     "ename": "AttributeError",
     "evalue": "'str' object has no attribute 'isaplha'",
     "output_type": "error",
     "traceback": [
      "\u001b[1;31m---------------------------------------------------------------------------\u001b[0m",
      "\u001b[1;31mAttributeError\u001b[0m                            Traceback (most recent call last)",
      "\u001b[1;32m<ipython-input-21-ee39b8f1c34c>\u001b[0m in \u001b[0;36m<module>\u001b[1;34m()\u001b[0m\n\u001b[0;32m     15\u001b[0m \u001b[1;33m\u001b[0m\u001b[0m\n\u001b[0;32m     16\u001b[0m \u001b[1;32mfor\u001b[0m \u001b[0mj\u001b[0m \u001b[1;32min\u001b[0m \u001b[0mraw_str2\u001b[0m\u001b[1;33m:\u001b[0m\u001b[1;33m\u001b[0m\u001b[0m\n\u001b[1;32m---> 17\u001b[1;33m     \u001b[1;32mif\u001b[0m \u001b[0mj\u001b[0m\u001b[1;33m.\u001b[0m\u001b[0misaplha\u001b[0m\u001b[1;33m(\u001b[0m\u001b[1;33m)\u001b[0m\u001b[1;33m:\u001b[0m\u001b[1;33m\u001b[0m\u001b[0m\n\u001b[0m\u001b[0;32m     18\u001b[0m         \u001b[0mcook_str2\u001b[0m\u001b[1;33m.\u001b[0m\u001b[0mappend\u001b[0m\u001b[1;33m(\u001b[0m\u001b[0mj\u001b[0m\u001b[1;33m)\u001b[0m\u001b[1;33m\u001b[0m\u001b[0m\n\u001b[0;32m     19\u001b[0m \u001b[1;33m\u001b[0m\u001b[0m\n",
      "\u001b[1;31mAttributeError\u001b[0m: 'str' object has no attribute 'isaplha'"
     ]
    }
   ],
   "source": [
    "# 2.Write a program to check if two given strings are an anagram \n",
    "# of each other or not.\n",
    "# Anagram Strings: Two strings are anagrams if they are written \n",
    "# using the exact letters, ignoring space, punctuation, and capitalization.\n",
    "\n",
    "raw_str1 = \"army\"\n",
    "raw_str2 = \"mary\"\n",
    "\n",
    "cook_str1 = []\n",
    "cook_str2 = []\n",
    "\n",
    "for i in raw_str1:\n",
    "    if i.isalpha():\n",
    "        cook_str1.append(i)\n",
    "\n",
    "for j in raw_str2:\n",
    "    if j.isaplha():\n",
    "        cook_str2.append(j)\n",
    "        \n",
    "if(sorted(cook_str1)==sorted(cook_str2)):\n",
    "    print(\"The strings given are anagram of each other\")\n",
    "else:\n",
    "    print(\"Not a anagram\")"
   ]
  },
  {
   "cell_type": "code",
   "execution_count": 41,
   "metadata": {},
   "outputs": [
    {
     "ename": "SyntaxError",
     "evalue": "invalid syntax (<ipython-input-41-9580da6d8c5e>, line 22)",
     "output_type": "error",
     "traceback": [
      "\u001b[1;36m  File \u001b[1;32m\"<ipython-input-41-9580da6d8c5e>\"\u001b[1;36m, line \u001b[1;32m22\u001b[0m\n\u001b[1;33m    else:\u001b[0m\n\u001b[1;37m       ^\u001b[0m\n\u001b[1;31mSyntaxError\u001b[0m\u001b[1;31m:\u001b[0m invalid syntax\n"
     ]
    }
   ],
   "source": [
    "# 3.Given 3 strings: first, second, and third. \n",
    "# Third String is said to be a shuffle of first and second\n",
    "# if it can be formed by interleaving the characters of first \n",
    "# and second String in a way that maintains the left to right \n",
    "# ordering of the characters from each string.\n",
    "\n",
    "\n",
    "def check_shuffle(first_str,sec_str,third_str):\n",
    "    if(len(first_str)+len(sec_str)!= len(third_str)):\n",
    "        print(\"Invalid Shuffle\")\n",
    "    \n",
    "    i=0\n",
    "    j=0\n",
    "    k=0\n",
    "    \n",
    "    while k!= len(third_str)-1:\n",
    "        if i < len(first_str) and first_str[i]==third_str[k]:\n",
    "            i = i+1\n",
    "        elif j < len(sec_str) and sec_str[j]==third_str[k]:\n",
    "            j=j+1\n",
    "        print(\"Valid shuffle\")\n",
    "        else:\n",
    "            break:\n",
    "        k=k+1\n",
    "\n",
    "    check_shuffle(ABC,DEF,ADEBCF)\n",
    "    \n",
    "        \n",
    "    "
   ]
  },
  {
   "cell_type": "code",
   "execution_count": 1,
   "metadata": {},
   "outputs": [
    {
     "name": "stdout",
     "output_type": "stream",
     "text": [
      "Enter a string:aroma\n",
      "a\n",
      "a\n",
      "a\n",
      "a\n",
      "a\n"
     ]
    }
   ],
   "source": [
    "# 4.Write a program to implement an algorithm \n",
    "# which will accept a string of characters \n",
    "# and should find the highest occurrence of the character and display it.\n",
    "\n",
    "ASCII_SIZE=256\n",
    "s = input(\"Enter a string:\")\n",
    "count = [0] * ASCII_SIZE\n",
    "\n",
    "max = -1\n",
    "c = ''\n",
    "for i in s:\n",
    "    count[ord(i)]+=1\n",
    "for i in s:\n",
    "    if max < count[ord(i)]:\n",
    "        max = count[ord(i)]\n",
    "        c=i\n",
    "    print(c)\n",
    "    \n"
   ]
  },
  {
   "cell_type": "code",
   "execution_count": 3,
   "metadata": {},
   "outputs": [
    {
     "ename": "SyntaxError",
     "evalue": "invalid syntax (<ipython-input-3-54013a3f0b18>, line 8)",
     "output_type": "error",
     "traceback": [
      "\u001b[1;36m  File \u001b[1;32m\"<ipython-input-3-54013a3f0b18>\"\u001b[1;36m, line \u001b[1;32m8\u001b[0m\n\u001b[1;33m    delete i+1\u001b[0m\n\u001b[1;37m           ^\u001b[0m\n\u001b[1;31mSyntaxError\u001b[0m\u001b[1;31m:\u001b[0m invalid syntax\n"
     ]
    }
   ],
   "source": [
    "# 5.In a given string, if adjacent characters are same \n",
    "# remove those characters from the string and \n",
    "# generate the reduced string\n",
    "\n",
    "string = \"aaaabbbccdd\"\n",
    "for i in string:\n",
    "    if i==i+1:\n",
    "        delete()"
   ]
  },
  {
   "cell_type": "code",
   "execution_count": 36,
   "metadata": {},
   "outputs": [
    {
     "name": "stdout",
     "output_type": "stream",
     "text": [
      "{ipgsqi\n"
     ]
    }
   ],
   "source": [
    "# Q.6\n",
    "\n",
    "s = \"welcome\"\n",
    "a = 0\n",
    "cs = []\n",
    "b = len(s)\n",
    "for i in range(0,b):\n",
    "    a = ord(s[i]) \n",
    "#     print(a)\n",
    "    a+=4\n",
    "    cs.append(chr(a))\n",
    "    i+=1 \n",
    "# print(cs)\n",
    "new_string=''.join(cs)\n",
    "print(new_string)\n",
    "\n"
   ]
  },
  {
   "cell_type": "code",
   "execution_count": 32,
   "metadata": {},
   "outputs": [
    {
     "name": "stdout",
     "output_type": "stream",
     "text": [
      "119\n",
      "{\n"
     ]
    }
   ],
   "source": [
    "c ='w'\n",
    "print(ord(c))\n",
    "print(chr(123))"
   ]
  },
  {
   "cell_type": "code",
   "execution_count": 21,
   "metadata": {},
   "outputs": [
    {
     "name": "stdout",
     "output_type": "stream",
     "text": [
      "[(3, 4), (4, 3)]\n"
     ]
    }
   ],
   "source": [
    "# Q.7\n",
    "l = [1,2,3,4,5]\n",
    "l1 = []\n",
    "sum = 7\n",
    "for i in range(0,len(l)-1):\n",
    "    for j in range(0,len(l)-1):\n",
    "        if(l[i]+l[j]==sum):\n",
    "            l1.append((l[i],l[j]))\n",
    "i=i+1\n",
    "j+=1\n",
    "           \n",
    "print(l1)\n",
    "    \n",
    "            \n",
    "        \n",
    "            "
   ]
  },
  {
   "cell_type": "code",
   "execution_count": 31,
   "metadata": {},
   "outputs": [
    {
     "ename": "TypeError",
     "evalue": "append() takes exactly one argument (2 given)",
     "output_type": "error",
     "traceback": [
      "\u001b[1;31m---------------------------------------------------------------------------\u001b[0m",
      "\u001b[1;31mTypeError\u001b[0m                                 Traceback (most recent call last)",
      "\u001b[1;32m<ipython-input-31-478befd17200>\u001b[0m in \u001b[0;36m<module>\u001b[1;34m()\u001b[0m\n\u001b[0;32m      4\u001b[0m     \u001b[1;32mfor\u001b[0m \u001b[0mj\u001b[0m \u001b[1;32min\u001b[0m \u001b[0mrange\u001b[0m\u001b[1;33m(\u001b[0m\u001b[1;36m1\u001b[0m\u001b[1;33m,\u001b[0m\u001b[0mi\u001b[0m\u001b[1;33m+\u001b[0m\u001b[1;36m1\u001b[0m\u001b[1;33m)\u001b[0m\u001b[1;33m:\u001b[0m\u001b[1;33m\u001b[0m\u001b[0m\n\u001b[0;32m      5\u001b[0m         \u001b[1;32mif\u001b[0m\u001b[1;33m(\u001b[0m\u001b[0ml\u001b[0m\u001b[1;33m[\u001b[0m\u001b[0mi\u001b[0m\u001b[1;33m]\u001b[0m\u001b[1;33m+\u001b[0m\u001b[0ml\u001b[0m\u001b[1;33m[\u001b[0m\u001b[0mj\u001b[0m\u001b[1;33m]\u001b[0m\u001b[1;33m)\u001b[0m\u001b[1;33m%\u001b[0m\u001b[1;36m2\u001b[0m\u001b[1;33m==\u001b[0m\u001b[1;36m0\u001b[0m\u001b[1;33m:\u001b[0m\u001b[1;33m\u001b[0m\u001b[0m\n\u001b[1;32m----> 6\u001b[1;33m             \u001b[0ml1\u001b[0m\u001b[1;33m.\u001b[0m\u001b[0mappend\u001b[0m\u001b[1;33m(\u001b[0m\u001b[0ml\u001b[0m\u001b[1;33m[\u001b[0m\u001b[0mi\u001b[0m\u001b[1;33m]\u001b[0m\u001b[1;33m,\u001b[0m\u001b[0ml\u001b[0m\u001b[1;33m[\u001b[0m\u001b[0mi\u001b[0m\u001b[1;33m+\u001b[0m\u001b[1;36m1\u001b[0m\u001b[1;33m]\u001b[0m\u001b[1;33m)\u001b[0m\u001b[1;33m\u001b[0m\u001b[0m\n\u001b[0m\u001b[0;32m      7\u001b[0m \u001b[1;33m\u001b[0m\u001b[0m\n\u001b[0;32m      8\u001b[0m \u001b[1;31m#             i=i+1\u001b[0m\u001b[1;33m\u001b[0m\u001b[1;33m\u001b[0m\u001b[0m\n",
      "\u001b[1;31mTypeError\u001b[0m: append() takes exactly one argument (2 given)"
     ]
    }
   ],
   "source": [
    "l = [1,3,5,4,2]\n",
    "l1 = []\n",
    "for i in range(0,len(l)-1):\n",
    "    for j in range(1,i+1):\n",
    "        if(l[i]+l[j])%2==0:\n",
    "            l1.append(l[i],l[i+1])\n",
    "            \n",
    "#             i=i+1\n",
    "    i=i+1\n",
    "print(l1)"
   ]
  },
  {
   "cell_type": "code",
   "execution_count": null,
   "metadata": {},
   "outputs": [],
   "source": []
  }
 ],
 "metadata": {
  "kernelspec": {
   "display_name": "Python 3",
   "language": "python",
   "name": "python3"
  },
  "language_info": {
   "codemirror_mode": {
    "name": "ipython",
    "version": 3
   },
   "file_extension": ".py",
   "mimetype": "text/x-python",
   "name": "python",
   "nbconvert_exporter": "python",
   "pygments_lexer": "ipython3",
   "version": "3.6.5"
  }
 },
 "nbformat": 4,
 "nbformat_minor": 2
}
